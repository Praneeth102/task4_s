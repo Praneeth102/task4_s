{
 "cells": [
  {
   "cell_type": "code",
   "execution_count": 1,
   "id": "7a93ce49",
   "metadata": {},
   "outputs": [],
   "source": [
    "import cv2"
   ]
  },
  {
   "cell_type": "code",
   "execution_count": 2,
   "id": "76718e02",
   "metadata": {},
   "outputs": [],
   "source": [
    "import numpy as np"
   ]
  },
  {
   "cell_type": "code",
   "execution_count": 3,
   "id": "e18189d4",
   "metadata": {},
   "outputs": [],
   "source": [
    "photo=np.zeros((500,500,3),np.uint8)"
   ]
  },
  {
   "cell_type": "code",
   "execution_count": 4,
   "id": "758eddcd",
   "metadata": {},
   "outputs": [],
   "source": [
    "for x in range(100):\n",
    "    for y in range(100):\n",
    "            photo[x][y]=[0,0,255]\n",
    "    for y in range(100,200):\n",
    "            photo[x][y]=[50,10,150]       \n",
    "    for y in range(200,300):\n",
    "            photo[x][y]=[255,0,0]       \n",
    "    for y in range(300,400):\n",
    "            photo[x][y]=[50,255,50]       \n",
    "    for y in range(400,500):\n",
    "            photo[x][y]=[0,255,128]       \n",
    "                   \n",
    "            "
   ]
  },
  {
   "cell_type": "code",
   "execution_count": 5,
   "id": "f0660895",
   "metadata": {},
   "outputs": [],
   "source": [
    "for x in range(100,200):\n",
    "    for y in range(500):\n",
    "            photo[x][y]=[0,242,255]   "
   ]
  },
  {
   "cell_type": "code",
   "execution_count": 6,
   "id": "c1b3e59e",
   "metadata": {},
   "outputs": [],
   "source": [
    "for x in range(200,300):\n",
    "    for y in range(500):\n",
    "            photo[x][y]=[202,53,57]   "
   ]
  },
  {
   "cell_type": "code",
   "execution_count": 7,
   "id": "d4906b0b",
   "metadata": {},
   "outputs": [],
   "source": [
    "for x in range(300,400):\n",
    "    for y in range(100,200):\n",
    "            photo[x][y]=[50,10,150] \n",
    "    for y in range(100):\n",
    "            photo[x][y]=[0,0,255]\n",
    "    for y in range(400,500):\n",
    "            photo[x][y]=[150,100,50]               \n",
    "    for y in range(300,400):\n",
    "            photo[x][y]=[50,255,50]       \n",
    "    for y in range(200,300):\n",
    "            photo[x][y]=[255,0,0]               \n",
    "    \n",
    "            "
   ]
  },
  {
   "cell_type": "code",
   "execution_count": 8,
   "id": "839c0e95",
   "metadata": {},
   "outputs": [],
   "source": [
    "for x in range(400,500):\n",
    "    for y in range(500):\n",
    "            photo[x][y]=[200,0,255]   "
   ]
  },
  {
   "cell_type": "code",
   "execution_count": 9,
   "id": "2833de3d",
   "metadata": {},
   "outputs": [],
   "source": [
    "cv2.imshow('pi5c1',photo)\n",
    "cv2.waitKey()\n",
    "cv2.destroyAllWindows()"
   ]
  },
  {
   "cell_type": "code",
   "execution_count": null,
   "id": "3715f2ee",
   "metadata": {},
   "outputs": [],
   "source": []
  }
 ],
 "metadata": {
  "kernelspec": {
   "display_name": "Python 3",
   "language": "python",
   "name": "python3"
  },
  "language_info": {
   "codemirror_mode": {
    "name": "ipython",
    "version": 3
   },
   "file_extension": ".py",
   "mimetype": "text/x-python",
   "name": "python",
   "nbconvert_exporter": "python",
   "pygments_lexer": "ipython3",
   "version": "3.8.8"
  }
 },
 "nbformat": 4,
 "nbformat_minor": 5
}
