{
 "cells": [
  {
   "cell_type": "code",
   "execution_count": 1,
   "id": "b15eddb4",
   "metadata": {},
   "outputs": [],
   "source": [
    "import cv2"
   ]
  },
  {
   "cell_type": "code",
   "execution_count": 2,
   "id": "b269024f",
   "metadata": {},
   "outputs": [],
   "source": [
    "photo1=cv2.imread('1.jpg')\n",
    "cv2.imshow('p5ic1',photo1)\n",
    "cv2.waitKey()\n",
    "cv2.destroyAllWindows()"
   ]
  },
  {
   "cell_type": "code",
   "execution_count": 3,
   "id": "4a24249a",
   "metadata": {},
   "outputs": [],
   "source": [
    "photo2=cv2.imread('2.jpg')\n",
    "cv2.imshow('pi5c1',photo2)\n",
    "cv2.waitKey()\n",
    "cv2.destroyAllWindows()"
   ]
  },
  {
   "cell_type": "code",
   "execution_count": 4,
   "id": "ba15b60f",
   "metadata": {},
   "outputs": [
    {
     "data": {
      "text/plain": [
       "True"
      ]
     },
     "execution_count": 4,
     "metadata": {},
     "output_type": "execute_result"
    }
   ],
   "source": [
    "photo2[50:120,75:140]=photo1[50:120,75:140]\n",
    "cv2.imshow('pic',photo2)\n",
    "cv2.waitKey()\n",
    "cv2.destroyAllWindows()\n",
    "cv2.imwrite('1st.jpg',photo2)"
   ]
  },
  {
   "cell_type": "code",
   "execution_count": 5,
   "id": "d607fc0d",
   "metadata": {},
   "outputs": [
    {
     "data": {
      "text/plain": [
       "True"
      ]
     },
     "execution_count": 5,
     "metadata": {},
     "output_type": "execute_result"
    }
   ],
   "source": [
    "temp2=cv2.imread('2.jpg')\n",
    "photo1[50:120,75:140]=temp2[50:120,75:140]\n",
    "cv2.imshow('pic',photo1)\n",
    "cv2.waitKey()\n",
    "cv2.destroyAllWindows()\n",
    "cv2.imwrite('2nd.jpg',photo1)"
   ]
  },
  {
   "cell_type": "code",
   "execution_count": 11,
   "id": "4a88d930",
   "metadata": {},
   "outputs": [],
   "source": []
  },
  {
   "cell_type": "code",
   "execution_count": 12,
   "id": "030c7064",
   "metadata": {},
   "outputs": [],
   "source": []
  },
  {
   "cell_type": "code",
   "execution_count": null,
   "id": "16b611b7",
   "metadata": {},
   "outputs": [],
   "source": []
  }
 ],
 "metadata": {
  "kernelspec": {
   "display_name": "Python 3",
   "language": "python",
   "name": "python3"
  },
  "language_info": {
   "codemirror_mode": {
    "name": "ipython",
    "version": 3
   },
   "file_extension": ".py",
   "mimetype": "text/x-python",
   "name": "python",
   "nbconvert_exporter": "python",
   "pygments_lexer": "ipython3",
   "version": "3.8.8"
  }
 },
 "nbformat": 4,
 "nbformat_minor": 5
}
