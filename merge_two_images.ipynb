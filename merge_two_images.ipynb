{
 "cells": [
  {
   "cell_type": "code",
   "execution_count": 1,
   "id": "df25a67d",
   "metadata": {},
   "outputs": [],
   "source": [
    "import cv2"
   ]
  },
  {
   "cell_type": "code",
   "execution_count": 2,
   "id": "9a90127e",
   "metadata": {},
   "outputs": [],
   "source": [
    "import numpy as np"
   ]
  },
  {
   "cell_type": "code",
   "execution_count": 3,
   "id": "79157eac",
   "metadata": {},
   "outputs": [],
   "source": [
    "pic1=cv2.imread('1.jpg')"
   ]
  },
  {
   "cell_type": "code",
   "execution_count": 4,
   "id": "5cbe71a6",
   "metadata": {},
   "outputs": [],
   "source": [
    "pic2=cv2.imread('2.jpg')"
   ]
  },
  {
   "cell_type": "code",
   "execution_count": 5,
   "id": "e9f8ec16",
   "metadata": {},
   "outputs": [
    {
     "data": {
      "text/plain": [
       "(168, 300, 3)"
      ]
     },
     "execution_count": 5,
     "metadata": {},
     "output_type": "execute_result"
    }
   ],
   "source": [
    "pic1.shape"
   ]
  },
  {
   "cell_type": "code",
   "execution_count": 6,
   "id": "93c62a9c",
   "metadata": {},
   "outputs": [],
   "source": [
    "pic=np.hstack((pic1,pic2))"
   ]
  },
  {
   "cell_type": "code",
   "execution_count": 7,
   "id": "921ed448",
   "metadata": {},
   "outputs": [],
   "source": [
    "cv2.imshow('pi5c1',pic)\n",
    "cv2.waitKey()\n",
    "cv2.destroyAllWindows()"
   ]
  },
  {
   "cell_type": "code",
   "execution_count": 9,
   "id": "34ff15d6",
   "metadata": {},
   "outputs": [
    {
     "data": {
      "text/plain": [
       "True"
      ]
     },
     "execution_count": 9,
     "metadata": {},
     "output_type": "execute_result"
    }
   ],
   "source": [
    "cv2.imwrite('merge_image.jpg',pic)"
   ]
  },
  {
   "cell_type": "code",
   "execution_count": null,
   "id": "2906ab8f",
   "metadata": {},
   "outputs": [],
   "source": []
  }
 ],
 "metadata": {
  "kernelspec": {
   "display_name": "Python 3",
   "language": "python",
   "name": "python3"
  },
  "language_info": {
   "codemirror_mode": {
    "name": "ipython",
    "version": 3
   },
   "file_extension": ".py",
   "mimetype": "text/x-python",
   "name": "python",
   "nbconvert_exporter": "python",
   "pygments_lexer": "ipython3",
   "version": "3.8.8"
  }
 },
 "nbformat": 4,
 "nbformat_minor": 5
}
